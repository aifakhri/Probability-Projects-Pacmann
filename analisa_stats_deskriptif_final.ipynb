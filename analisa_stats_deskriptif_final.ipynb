{
 "cells": [
  {
   "cell_type": "code",
   "execution_count": 1,
   "metadata": {},
   "outputs": [],
   "source": [
    "import pandas as pd\n",
    "import numpy as np"
   ]
  },
  {
   "cell_type": "markdown",
   "metadata": {},
   "source": [
    "#### Analisa Statistik Deskriptif"
   ]
  },
  {
   "cell_type": "code",
   "execution_count": 2,
   "metadata": {},
   "outputs": [],
   "source": [
    "# Importing Data\n",
    "df = pd.read_csv(\"insurance.csv\")"
   ]
  },
  {
   "cell_type": "markdown",
   "metadata": {},
   "source": [
    "#### Pertanyaan 1 - Rata-rata umur pengguna"
   ]
  },
  {
   "cell_type": "code",
   "execution_count": 3,
   "metadata": {},
   "outputs": [
    {
     "name": "stdout",
     "output_type": "stream",
     "text": [
      "Rata-rata umur pengguna adalah:  39.20702541106129\n"
     ]
    }
   ],
   "source": [
    "user_age_mean = np.mean(df[\"age\"])\n",
    "print(\"Rata-rata umur pengguna adalah: \", user_age_mean)"
   ]
  },
  {
   "cell_type": "markdown",
   "metadata": {},
   "source": [
    "#### Pertanyaan 2 - Rata-rata nilai BMI dari pengguna yang merokok"
   ]
  },
  {
   "cell_type": "code",
   "execution_count": 4,
   "metadata": {},
   "outputs": [
    {
     "name": "stdout",
     "output_type": "stream",
     "text": [
      "Rata-rata nilai BMI dari pengguna yang merokok:  30.70844890510949\n"
     ]
    }
   ],
   "source": [
    "smokers = df[df[\"smoker\"] == \"yes\"]\n",
    "smokers_bmi_mean = np.mean(smokers[\"bmi\"])\n",
    "\n",
    "print(\"Rata-rata nilai BMI dari pengguna yang merokok: \", smokers_bmi_mean)"
   ]
  },
  {
   "cell_type": "markdown",
   "metadata": {},
   "source": [
    "#### Pertanyaan 3 - Apakah variansi dari data charges perokok dan non-perkok sama?"
   ]
  },
  {
   "cell_type": "code",
   "execution_count": 5,
   "metadata": {},
   "outputs": [
    {
     "name": "stdout",
     "output_type": "stream",
     "text": [
      "Variansi data perokok:  132721153.13625307\n",
      "Variansi data non-perokok:  35891656.00316426\n",
      "Variansi data charges dari perokok dan non-perokok berbeda\n"
     ]
    }
   ],
   "source": [
    "# Data Tagihan Perokok\n",
    "smokers_charges = df[df[\"smoker\"] == \"yes\"][\"charges\"]\n",
    "\n",
    "# Data Tagihan non-Perokok\n",
    "non_smokers_charges = df[df[\"smoker\"] == \"no\"][\"charges\"]\n",
    "\n",
    "# Variansi data perokok\n",
    "smokers_charges_var = np.var(smokers_charges)\n",
    "print(\"Variansi data perokok: \", smokers_charges_var)\n",
    "\n",
    "# Variansi data non-perokok\n",
    "non_smokers_charges_var = np.var(non_smokers_charges)\n",
    "print(\"Variansi data non-perokok: \", non_smokers_charges_var)\n",
    "\n",
    "if (smokers_charges_var == non_smokers_charges_var):\n",
    "    print(\"Variansi data charges dari perokok dan non-perokok sama, \")\n",
    "else:\n",
    "    print(\"Variansi data charges dari perokok dan non-perokok berbeda\")\n"
   ]
  },
  {
   "cell_type": "markdown",
   "metadata": {},
   "source": [
    "#### Pertanyaan 4 - Apakah rata-rata umur perempuan dan laki-laki yang merokok sama"
   ]
  },
  {
   "cell_type": "code",
   "execution_count": 6,
   "metadata": {},
   "outputs": [
    {
     "name": "stdout",
     "output_type": "stream",
     "text": [
      "Rata-rata umur perokok laki-laki:  38.44654088050314\n",
      "Rata-rata umur perokok perempuan:  38.608695652173914\n",
      "Rata-rata umur perokok perempuan dan laki-laki berbeda\n"
     ]
    }
   ],
   "source": [
    "# Data Perokok Laki-laki\n",
    "male_smokers = df[(df[\"sex\"] == \"male\") & (df[\"smoker\"] == \"yes\")]\n",
    "\n",
    "# Data Perokok Perempuan\n",
    "female_smoker = df[(df[\"sex\"] == \"female\") & (df[\"smoker\"] == \"yes\")]\n",
    "\n",
    "# Rata-rata umur perokok laki-laki\n",
    "male_smoker_mean = np.mean(male_smokers[\"age\"])\n",
    "print(\"Rata-rata umur perokok laki-laki: \", male_smoker_mean)\n",
    "\n",
    "# Rata-rata umur perokok perempuan\n",
    "female_smoker_mean = np.mean(female_smoker[\"age\"])\n",
    "print(\"Rata-rata umur perokok perempuan: \", female_smoker_mean)\n",
    "\n",
    "if (male_smoker_mean == female_smoker_mean):\n",
    "    print(\"Rata-rata umur perokok perempuan dan laki-laki sama\")\n",
    "else:\n",
    "    print(\"Rata-rata umur perokok perempuan dan laki-laki berbeda\")"
   ]
  },
  {
   "cell_type": "markdown",
   "metadata": {},
   "source": [
    "#### Pertanyaan 5 - Mana yang lebih tinggi, rata-rata tagihan kesehatan perkok atau non-perokok "
   ]
  },
  {
   "cell_type": "code",
   "execution_count": 7,
   "metadata": {},
   "outputs": [
    {
     "name": "stdout",
     "output_type": "stream",
     "text": [
      "Rata-rata tagihan kesehatan perokok:  32050.23183153284\n",
      "Rata-rata tagihan kesehatan non-perokok:  8434.268297856204\n",
      "Rata-rata tagihan kesehatan perokok lebih tinggi dibandingkan rata-rata tagihan kesehatan non-perokok\n"
     ]
    }
   ],
   "source": [
    "# Data tagihan kesehatan perokok\n",
    "smokers_charges = df[df[\"smoker\"] == \"yes\"][\"charges\"]\n",
    "\n",
    "# Data tagihan kesehatan non-perokok\n",
    "non_smokers_charges = df[df[\"smoker\"] == \"no\"][\"charges\"]\n",
    "\n",
    "# Rata-rata tagihan kesehatan perokok\n",
    "smokers_charges_mean = np.mean(smokers_charges)\n",
    "print(\"Rata-rata tagihan kesehatan perokok: \", smokers_charges_mean)\n",
    "\n",
    "# Rata-rata tagihan kesehatan non-Perokok\n",
    "non_smokers_charges_mean = np.mean(non_smokers_charges)\n",
    "print(\"Rata-rata tagihan kesehatan non-perokok: \", non_smokers_charges_mean)\n",
    "\n",
    "if (smokers_charges_mean > non_smokers_charges_mean):\n",
    "    print(\"Rata-rata tagihan kesehatan perokok lebih tinggi dibandingkan rata-rata tagihan kesehatan non-perokok\")\n",
    "elif (non_smokers_charges_mean > smokers_charges_mean):\n",
    "    print(\"Rata-rata tagihan kesehatan non-perkok lebih timggi dibandingkan dengan rata-rata tagihan kesehatan perokok\")"
   ]
  }
 ],
 "metadata": {
  "kernelspec": {
   "display_name": "Python 3.10.0 64-bit",
   "language": "python",
   "name": "python3"
  },
  "language_info": {
   "codemirror_mode": {
    "name": "ipython",
    "version": 3
   },
   "file_extension": ".py",
   "mimetype": "text/x-python",
   "name": "python",
   "nbconvert_exporter": "python",
   "pygments_lexer": "ipython3",
   "version": "3.10.0"
  },
  "orig_nbformat": 4,
  "vscode": {
   "interpreter": {
    "hash": "ec71345ca5d37a0e9a74c52dd4df8f08155a9116efa2c99cb350734e2b4aad3e"
   }
  }
 },
 "nbformat": 4,
 "nbformat_minor": 2
}
