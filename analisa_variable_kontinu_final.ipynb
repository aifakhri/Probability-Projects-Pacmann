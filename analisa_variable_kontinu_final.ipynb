{
 "cells": [
  {
   "cell_type": "code",
   "execution_count": 48,
   "metadata": {},
   "outputs": [],
   "source": [
    "import pandas as pd\n",
    "import numpy as np\n",
    "\n",
    "from scipy import stats"
   ]
  },
  {
   "cell_type": "code",
   "execution_count": 49,
   "metadata": {},
   "outputs": [],
   "source": [
    "# import data set\n",
    "df = pd.read_csv(\"insurance.csv\")"
   ]
  },
  {
   "cell_type": "markdown",
   "metadata": {},
   "source": [
    "#### Pertanyaan 1 - Mencari peluang seseorang itu perempuan dan merokok berdasarkan BMI\n",
    "<p>mencari peluang seseorang itu perempuan jika BMI > 25</p>"
   ]
  },
  {
   "cell_type": "code",
   "execution_count": 63,
   "metadata": {},
   "outputs": [
    {
     "name": "stdout",
     "output_type": "stream",
     "text": [
      "Nilai peluang:  0.7217391304347827\n"
     ]
    }
   ],
   "source": [
    "female_smoker = df[(df[\"sex\"] == \"female\") & (df[\"smoker\"] == \"yes\")]\n",
    "\n",
    "n_bmi_female_smoker = female_smoker[female_smoker[\"bmi\"] > 25][\"bmi\"].count()\n",
    "n_bmi_gender = female_smoker[\"bmi\"].count()\n",
    "\n",
    "p_bmi_female_smoker = n_bmi_female_smoker/n_bmi_gender\n",
    "\n",
    "print(\"Nilai peluang: \", p_bmi_female_smoker)"
   ]
  },
  {
   "cell_type": "markdown",
   "metadata": {},
   "source": [
    "#### Pertanyaan 2 - Mencari kemungkinan terjadi, seseorang perokok dengan BMI di atas 25 akan mendapatkan tagihan kesehatan di atas 16700"
   ]
  },
  {
   "cell_type": "code",
   "execution_count": 60,
   "metadata": {},
   "outputs": [
    {
     "name": "stdout",
     "output_type": "stream",
     "text": [
      "Kemungkinan Terjad:  0.9817351598173516\n"
     ]
    }
   ],
   "source": [
    "smoker_high_bmi = df[(df[\"bmi\"] > 25) & (df[\"smoker\"] == \"yes\")]\n",
    "\n",
    "charges_cond = smoker_high_bmi[\"charges\"] > 16700\n",
    "n_high_charges_for_smoker_high_bmi = smoker_high_bmi[charges_cond][\"charges\"].count()\n",
    "n_total_charges_for_smoker_high_bmi = smoker_high_bmi[\"charges\"].count()\n",
    "\n",
    "p_smoker_high_bmi_high_charges = n_high_charges_for_smoker_high_bmi/n_total_charges_for_smoker_high_bmi\n",
    "\n",
    "print(\"Kemungkinan Terjad: \", p_smoker_high_bmi_high_charges)"
   ]
  },
  {
   "cell_type": "markdown",
   "metadata": {},
   "source": [
    "#### Pertanyaan 3 - Berapa peluang seseorang acak tagihan kesehatannya di atas 16.7K diketahui dia adalah perokok"
   ]
  },
  {
   "cell_type": "code",
   "execution_count": 51,
   "metadata": {},
   "outputs": [
    {
     "name": "stdout",
     "output_type": "stream",
     "text": [
      "Peluang:  0.927007299270073\n"
     ]
    }
   ],
   "source": [
    "\n",
    "high_chages_and_smokers = df[(df[\"charges\"] > 16700) & (df[\"smoker\"] == \"yes\")]\n",
    "\n",
    "n_high_charges_and_smokers = high_chages_and_smokers[\"charges\"].count()\n",
    "n_smokers = df[df[\"smoker\"] == \"yes\"][\"charges\"].count()\n",
    "p_high_charges_given_smokers = n_high_charges_and_smokers/n_smokers\n",
    "\n",
    "print(\"Peluang: \", p_high_charges_given_smokers)"
   ]
  },
  {
   "cell_type": "markdown",
   "metadata": {},
   "source": [
    "#### Pertanyaan 4 - Mana yang lebih mungkin terjadi\n",
    "##### Petanyaan 4a - Seseorang dengan BMI di atas 25 mendapatkan tagihan kesehatan di atas 16.7K"
   ]
  },
  {
   "cell_type": "code",
   "execution_count": 52,
   "metadata": {},
   "outputs": [
    {
     "name": "stdout",
     "output_type": "stream",
     "text": [
      "Nilai peluang:  0.8473053892215568\n"
     ]
    }
   ],
   "source": [
    "n_high_bmi_charges = df[(df[\"bmi\"] > 25) & (df[\"charges\"] > 16700)][\"charges\"]\n",
    "n_charges = df[df[\"charges\"] > 16700][\"charges\"]\n",
    "p_high_bmi_charges = n_high_bmi_charges.count()/n_charges.count()\n",
    "\n",
    "print(\"Nilai peluang: \", p_high_bmi_charges)"
   ]
  },
  {
   "cell_type": "markdown",
   "metadata": {},
   "source": [
    "##### Petanyaan 4b - Seseorang dengan BMI di bawah 25 mendapatkan tagihan kesehatan di atas 16.7K"
   ]
  },
  {
   "cell_type": "code",
   "execution_count": 53,
   "metadata": {},
   "outputs": [
    {
     "name": "stdout",
     "output_type": "stream",
     "text": [
      "Nilai Peluang:  0.15269461077844312\n"
     ]
    }
   ],
   "source": [
    "n_low_bmi_charges = df[(df[\"bmi\"] < 25) & (df[\"charges\"] > 16700)][\"charges\"]\n",
    "n_charges = df[df[\"charges\"] > 16700][\"charges\"]\n",
    "p_low_charges = n_low_bmi_charges.count()/n_charges.count()\n",
    "\n",
    "print(\"Nilai Peluang: \", p_low_charges)"
   ]
  },
  {
   "cell_type": "markdown",
   "metadata": {},
   "source": [
    "<p>Jika dibandngkan kita akan mendapatkan nilai: </p> "
   ]
  },
  {
   "cell_type": "code",
   "execution_count": 54,
   "metadata": {},
   "outputs": [
    {
     "name": "stdout",
     "output_type": "stream",
     "text": [
      "Yang mungkin terjadi adalah  sesorang dengan BMI > 25 mendapatkan tagihan kesehatan lebih dari 16700 \n"
     ]
    }
   ],
   "source": [
    "if (p_high_bmi_charges > p_low_charges):\n",
    "    print(\"Yang mungkin terjadi adalah  sesorang dengan BMI > 25 mendapatkan tagihan kesehatan lebih dari 16700 \")\n",
    "elif(p_high_bmi_charges > p_low_charges):\n",
    "    print(\"Yang mungkin terjadi adalah sesorang dengan BMI < 25 mendapatkan tagihan kesehatan lebih dari 16700\")"
   ]
  },
  {
   "cell_type": "markdown",
   "metadata": {},
   "source": [
    "#### Pertanyaan 5 - Mana Yang Lebih Mungkin Terjadi\n",
    "##### 5a - Seseorang perokok denga BMI di atas 25 mendapatkan tagihan kesehatan di atas 16.7K"
   ]
  },
  {
   "cell_type": "code",
   "execution_count": 55,
   "metadata": {},
   "outputs": [
    {
     "name": "stdout",
     "output_type": "stream",
     "text": [
      "Nilai Peluang:  0.9817351598173516\n"
     ]
    }
   ],
   "source": [
    "smoker_high_bmi = df[(df[\"smoker\"] == \"yes\") & (df[\"bmi\"] > 25)]\n",
    "\n",
    "n_smoker_high_bmi_charges = smoker_high_bmi[smoker_high_bmi[\"charges\"] > 16700][\"charges\"].count()\n",
    "n_smoker_charges = smoker_high_bmi[\"charges\"].count()\n",
    "p_smoker_high_bmi_high_charges = n_smoker_high_bmi_charges/n_smoker_charges\n",
    "\n",
    "print(\"Nilai Peluang: \", n_smoker_high_bmi_charges/n_smoker_charges)\n",
    "\n",
    "\n"
   ]
  },
  {
   "cell_type": "markdown",
   "metadata": {},
   "source": [
    "##### 5b - Seseorang non-perokok denga BMI di atas 25 mendapatkan tagihan kesehatan di atas 16.7K"
   ]
  },
  {
   "cell_type": "code",
   "execution_count": 58,
   "metadata": {},
   "outputs": [
    {
     "name": "stdout",
     "output_type": "stream",
     "text": [
      "Nilai Peluang:  0.0779816513761468\n"
     ]
    }
   ],
   "source": [
    "non_smoker_high_bmi = df[(df[\"smoker\"] == \"no\") & (df[\"bmi\"] > 25)]\n",
    "\n",
    "n_non_smoker_high_bmi_charges = non_smoker_high_bmi[non_smoker_high_bmi[\"charges\"] > 16700][\"charges\"].count()\n",
    "n_non_smoker_charges = non_smoker_high_bmi[\"charges\"].count()\n",
    "p_non_smoker_high_bmi_high_charges = n_non_smoker_high_bmi_charges/n_non_smoker_charges\n",
    "\n",
    "print(\"Nilai Peluang: \", p_non_smoker_high_bmi_high_charges)"
   ]
  }
 ],
 "metadata": {
  "kernelspec": {
   "display_name": "Python 3.10.0 64-bit",
   "language": "python",
   "name": "python3"
  },
  "language_info": {
   "codemirror_mode": {
    "name": "ipython",
    "version": 3
   },
   "file_extension": ".py",
   "mimetype": "text/x-python",
   "name": "python",
   "nbconvert_exporter": "python",
   "pygments_lexer": "ipython3",
   "version": "3.10.0"
  },
  "orig_nbformat": 4,
  "vscode": {
   "interpreter": {
    "hash": "ec71345ca5d37a0e9a74c52dd4df8f08155a9116efa2c99cb350734e2b4aad3e"
   }
  }
 },
 "nbformat": 4,
 "nbformat_minor": 2
}
