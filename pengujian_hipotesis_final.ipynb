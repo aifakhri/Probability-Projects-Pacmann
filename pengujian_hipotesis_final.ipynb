{
 "cells": [
  {
   "cell_type": "code",
   "execution_count": 1,
   "metadata": {},
   "outputs": [],
   "source": [
    "import pandas as pd\n",
    "import numpy as np\n",
    "from scipy import stats"
   ]
  },
  {
   "cell_type": "code",
   "execution_count": 2,
   "metadata": {},
   "outputs": [],
   "source": [
    "df = pd.read_csv(\"insurance.csv\")"
   ]
  },
  {
   "cell_type": "markdown",
   "metadata": {},
   "source": [
    "#### Pertanyaan 1 - Tagihan kesehatan perokok lebih tinggi daripada tagihan kesehata non-perokok"
   ]
  },
  {
   "cell_type": "code",
   "execution_count": 3,
   "metadata": {},
   "outputs": [
    {
     "name": "stdout",
     "output_type": "stream",
     "text": [
      "Variance from charges for smokers:  132721153.13625307\n",
      "Variance from Charges for non-smokers:  35891656.00316426\n"
     ]
    }
   ],
   "source": [
    "# Jumlah perokok dan non perokok\n",
    "smokers = df[df[\"smoker\"] == \"yes\"]\n",
    "non_smokers = df[df[\"smoker\"] == \"no\"]\n",
    "\n",
    "# Tagian kesehatan\n",
    "smokers_charges = smokers[\"charges\"]\n",
    "non_smokers_charges = non_smokers[\"charges\"]\n",
    "\n",
    "# Find the variance of the data\n",
    "print(\"Variance from charges for smokers: \", np.var(smokers_charges))\n",
    "print(\"Variance from Charges for non-smokers: \", np.var(non_smokers_charges))\n"
   ]
  },
  {
   "cell_type": "code",
   "execution_count": 4,
   "metadata": {},
   "outputs": [
    {
     "name": "stdout",
     "output_type": "stream",
     "text": [
      "t_statistcs value:  32.751887766341824\n",
      "p_value:  1.0\n"
     ]
    }
   ],
   "source": [
    "## Statistical Testing\n",
    "t_statistics, p_value = stats.ttest_ind(smokers_charges, non_smokers_charges, \n",
    "                                        alternative=\"less\", equal_var=False)\n",
    "\n",
    "print(\"t_statistcs value: \", t_statistics)\n",
    "print(\"p_value: \", p_value)"
   ]
  },
  {
   "cell_type": "code",
   "execution_count": 5,
   "metadata": {},
   "outputs": [
    {
     "name": "stdout",
     "output_type": "stream",
     "text": [
      "Gagal tolah null hypothesis\n"
     ]
    }
   ],
   "source": [
    "significance = 0.05\n",
    "if p_value > significance:\n",
    "    print(\"Gagal tolah null hypothesis\")\n",
    "else:\n",
    "    print(\"Tolak null Hypothesis\")"
   ]
  },
  {
   "cell_type": "markdown",
   "metadata": {},
   "source": [
    "#### Pertanyaan 2 - Tagihan Kesehatan BMI di atas 25 lebih tinggi daripada tagihan kesehatan dengan BMI di bawah 25"
   ]
  },
  {
   "cell_type": "code",
   "execution_count": 6,
   "metadata": {},
   "outputs": [
    {
     "name": "stdout",
     "output_type": "stream",
     "text": [
      "Variance from charges for high bmi:  164579189.52132663\n",
      "Variance from charges for low_bmi:  56326859.63068616\n"
     ]
    }
   ],
   "source": [
    "# Jumlah perokok dan non perokok\n",
    "high_bmi = df[df[\"bmi\"] > 25]\n",
    "low_bmi = df[df[\"bmi\"] < 25]\n",
    "\n",
    "# Tagian kesehatan\n",
    "high_bmi_charges = high_bmi[\"charges\"]\n",
    "low_bmi_charges = low_bmi[\"charges\"]\n",
    "\n",
    "# Find the variance of the data\n",
    "print(\"Variance from charges for high bmi: \", np.var(high_bmi_charges))\n",
    "print(\"Variance from charges for low_bmi: \", np.var(low_bmi_charges))\n"
   ]
  },
  {
   "cell_type": "code",
   "execution_count": 7,
   "metadata": {},
   "outputs": [
    {
     "name": "stdout",
     "output_type": "stream",
     "text": [
      "t_statistcs value:  5.929878344096734\n",
      "p_value:  0.9999999974595514\n"
     ]
    }
   ],
   "source": [
    "## Statistical Testing\n",
    "t_statistics, p_value = stats.ttest_ind(high_bmi_charges, low_bmi_charges, \n",
    "                                        alternative=\"less\", equal_var=False)\n",
    "\n",
    "print(\"t_statistcs value: \", t_statistics)\n",
    "print(\"p_value: \", p_value)"
   ]
  },
  {
   "cell_type": "code",
   "execution_count": 8,
   "metadata": {},
   "outputs": [
    {
     "name": "stdout",
     "output_type": "stream",
     "text": [
      "Gagal tolah null hypothesis\n"
     ]
    }
   ],
   "source": [
    "# Conclusion\n",
    "significance = 0.05\n",
    "if p_value > significance:\n",
    "    print(\"Gagal tolah null hypothesis\")\n",
    "else:\n",
    "    print(\"Tolak null Hypothesis\")"
   ]
  },
  {
   "cell_type": "markdown",
   "metadata": {},
   "source": [
    "#### Pertanyaan 3 - BMI Laki-laki dan Perempuan sama"
   ]
  },
  {
   "cell_type": "code",
   "execution_count": 9,
   "metadata": {},
   "outputs": [
    {
     "name": "stdout",
     "output_type": "stream",
     "text": [
      "Variance BMI perempuan:  36.499177033798524\n",
      "Variance BMI laki-laki:  37.64916073639534\n"
     ]
    }
   ],
   "source": [
    "# Male and Female\n",
    "female = df[df[\"sex\"] == \"female\"]\n",
    "male = df[df[\"sex\"] == \"male\"]\n",
    "\n",
    "# BMI Female vs male\n",
    "female_bmi = female[\"bmi\"]\n",
    "male_bmi = male[\"bmi\"]\n",
    "\n",
    "# Mean of male and female BMI\n",
    "print(\"Variance BMI perempuan: \", np.var(female_bmi))\n",
    "print(\"Variance BMI laki-laki: \", np.var(male_bmi))"
   ]
  },
  {
   "cell_type": "code",
   "execution_count": 10,
   "metadata": {},
   "outputs": [
    {
     "name": "stdout",
     "output_type": "stream",
     "text": [
      "t_statistcs value:  1.696752635752224\n",
      "p_value:  0.08997637178984934\n"
     ]
    }
   ],
   "source": [
    "# Menghitung nilai t-statistic\n",
    "\n",
    "t_statistics, p_value = stats.ttest_ind(male_bmi, female_bmi, \n",
    "                                        alternative=\"two-sided\", equal_var=True)\n",
    "\n",
    "print(\"t_statistcs value: \", t_statistics)\n",
    "print(\"p_value: \", p_value)"
   ]
  },
  {
   "cell_type": "code",
   "execution_count": 11,
   "metadata": {},
   "outputs": [
    {
     "name": "stdout",
     "output_type": "stream",
     "text": [
      "Gagal tolah null hypothesis\n"
     ]
    }
   ],
   "source": [
    "significance = 0.05\n",
    "if p_value > significance:\n",
    "    print(\"Gagal tolah null hypothesis\")\n",
    "else:\n",
    "    print(\"Tolak null Hypothesis\")"
   ]
  }
 ],
 "metadata": {
  "kernelspec": {
   "display_name": "Python 3.10.0 64-bit",
   "language": "python",
   "name": "python3"
  },
  "language_info": {
   "codemirror_mode": {
    "name": "ipython",
    "version": 3
   },
   "file_extension": ".py",
   "mimetype": "text/x-python",
   "name": "python",
   "nbconvert_exporter": "python",
   "pygments_lexer": "ipython3",
   "version": "3.10.0"
  },
  "orig_nbformat": 4,
  "vscode": {
   "interpreter": {
    "hash": "ec71345ca5d37a0e9a74c52dd4df8f08155a9116efa2c99cb350734e2b4aad3e"
   }
  }
 },
 "nbformat": 4,
 "nbformat_minor": 2
}
