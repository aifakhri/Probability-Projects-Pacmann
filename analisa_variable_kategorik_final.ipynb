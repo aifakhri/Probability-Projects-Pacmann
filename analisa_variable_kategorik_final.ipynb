{
 "cells": [
  {
   "cell_type": "markdown",
   "metadata": {},
   "source": [
    "## Analisa Variabel Kategorik (PMF)"
   ]
  },
  {
   "cell_type": "code",
   "execution_count": 19,
   "metadata": {},
   "outputs": [],
   "source": [
    "import pandas as pd\n",
    "import numpy as np\n"
   ]
  },
  {
   "cell_type": "code",
   "execution_count": 20,
   "metadata": {},
   "outputs": [],
   "source": [
    "# Import Dataset\n",
    "\n",
    "df = pd.read_csv(\"insurance.csv\")"
   ]
  },
  {
   "cell_type": "markdown",
   "metadata": {},
   "source": [
    "#### Pertanyaan 1 - Apakah setiap region memiliki proporsi data banyak orang yang sama "
   ]
  },
  {
   "cell_type": "code",
   "execution_count": 21,
   "metadata": {},
   "outputs": [
    {
     "name": "stdout",
     "output_type": "stream",
     "text": [
      "The proportion per region\n",
      "region\n",
      "northeast    0.242152\n",
      "northwest    0.242900\n",
      "southeast    0.272048\n",
      "southwest    0.242900\n",
      "Name: region, dtype: float64\n"
     ]
    }
   ],
   "source": [
    "data_per_region = df.groupby(\"region\")[\"region\"].count()\n",
    "proportion_per_region = data_per_region/data_per_region.sum()\n",
    "print(\"The proportion per region\")\n",
    "print(proportion_per_region)\n"
   ]
  },
  {
   "cell_type": "markdown",
   "metadata": {},
   "source": [
    "#### Pertanyaan 2 - Mana yang lebih tinggi proporsi perokok atau non-perokok"
   ]
  },
  {
   "cell_type": "code",
   "execution_count": 22,
   "metadata": {},
   "outputs": [
    {
     "name": "stdout",
     "output_type": "stream",
     "text": [
      "Proporsi non perokok adalah  0.7952167414050823\n",
      "Proporsi perokok adalah  0.20478325859491778\n"
     ]
    }
   ],
   "source": [
    "smoker_proportion = df.groupby(\"smoker\")[\"smoker\"].count()\n",
    "smoker_proportion = smoker_proportion/smoker_proportion.sum()\n",
    "\n",
    "print(\"Proporsi non perokok adalah \", smoker_proportion.loc[\"no\"])\n",
    "print(\"Proporsi perokok adalah \", smoker_proportion.loc[\"yes\"])"
   ]
  },
  {
   "cell_type": "markdown",
   "metadata": {},
   "source": [
    "#### Pertanyaan 3 - Berapa Peluang sesorang tersebut adalah perempan dikethui dia adalah perokok "
   ]
  },
  {
   "cell_type": "code",
   "execution_count": 23,
   "metadata": {},
   "outputs": [
    {
     "name": "stdout",
     "output_type": "stream",
     "text": [
      "0.4197080291970803\n",
      "Peluang anggota asuransi yang dipilih secara acak adalah perempuan jika dikeathui dia adalah perokok:  0.4197080291970803\n"
     ]
    }
   ],
   "source": [
    "n_female_and_smoker = df[(df[\"sex\"] == \"female\") & (df[\"smoker\"] == \"yes\")][\"smoker\"].count()\n",
    "n_smoker = df[df[\"smoker\"] == \"yes\"][\"smoker\"].count()\n",
    "\n",
    "p_female_given_smoker = n_female_and_smoker/n_smoker\n",
    "print(p_female_given_smoker)\n",
    "\n",
    "print(\"Peluang anggota asuransi yang dipilih secara acak adalah perempuan jika dikeathui dia adalah perokok: \", p_female_given_smoker)"
   ]
  },
  {
   "cell_type": "markdown",
   "metadata": {},
   "source": [
    "#### Pertanyaan 4 - Berapa peluang seseorang tersebut adalah laki-laku dikethui dia adalah perokok "
   ]
  },
  {
   "cell_type": "code",
   "execution_count": 24,
   "metadata": {},
   "outputs": [
    {
     "name": "stdout",
     "output_type": "stream",
     "text": [
      "Peluang anggota asuransi yang dipilih secara acak adalah laki-lagi jika diketahui dia adalah perokok:  0.5802919708029197\n"
     ]
    }
   ],
   "source": [
    "n_male_and_smoker = df[(df[\"sex\"] == \"male\") & (df[\"smoker\"] == \"yes\")][\"smoker\"].count()\n",
    "n_smoker = df[df[\"smoker\"] == \"yes\"][\"smoker\"].count()\n",
    "\n",
    "p_male_given_smoker = n_male_and_smoker/n_smoker\n",
    "print(\"Peluang anggota asuransi yang dipilih secara acak adalah laki-lagi jika diketahui dia adalah perokok: \",p_male_given_smoker)"
   ]
  },
  {
   "cell_type": "markdown",
   "metadata": {},
   "source": [
    "#### Pertanyaan 5 - Gender mana yang memiliki tagihan paling tinggi"
   ]
  },
  {
   "cell_type": "code",
   "execution_count": 25,
   "metadata": {},
   "outputs": [
    {
     "name": "stdout",
     "output_type": "stream",
     "text": [
      "Data tagihan kesehatan perempuan tertinggiL:  12569.578843835347\n",
      "Data tagihan kesehatan laki-laki tertinggi:  13956.751177721893\n",
      "Laki-laki memiliki data tagihan kesehatan tertinggi\n"
     ]
    }
   ],
   "source": [
    "# Reshaping Table to be grouped based on the region and charges value\n",
    "# Data tagihan kesehatan laki-laki\n",
    "male_charges = df[df[\"sex\"] == \"male\"][\"charges\"]\n",
    "\n",
    "# Data tagihan kesehatan perempuan\n",
    "female_charges = df[df[\"sex\"] == \"female\"][\"charges\"]\n",
    "\n",
    "# Data rata-rata tagihan kesehatan laki-laki\n",
    "male_charges_highest = np.mean(male_charges)\n",
    "\n",
    "# Data rata-rata tagihan kesehatan perempuan\n",
    "female_charges_highest = np.mean(female_charges)\n",
    "\n",
    "print(\"Data tagihan kesehatan perempuan tertinggiL: \", female_charges_highest )\n",
    "print(\"Data tagihan kesehatan laki-laki tertinggi: \", male_charges_highest)\n",
    "\n",
    "if (male_charges_highest > female_charges_highest):\n",
    "    print(\"Laki-laki memiliki data tagihan kesehatan tertinggi\")\n",
    "elif (female_charges_highest > male_charges_highest):\n",
    "    print(\"Perempuan memiliki data tagihan kesehatan tertinggi\")\n"
   ]
  }
 ],
 "metadata": {
  "kernelspec": {
   "display_name": "Python 3.10.0 64-bit",
   "language": "python",
   "name": "python3"
  },
  "language_info": {
   "codemirror_mode": {
    "name": "ipython",
    "version": 3
   },
   "file_extension": ".py",
   "mimetype": "text/x-python",
   "name": "python",
   "nbconvert_exporter": "python",
   "pygments_lexer": "ipython3",
   "version": "3.10.0"
  },
  "orig_nbformat": 4,
  "vscode": {
   "interpreter": {
    "hash": "ec71345ca5d37a0e9a74c52dd4df8f08155a9116efa2c99cb350734e2b4aad3e"
   }
  }
 },
 "nbformat": 4,
 "nbformat_minor": 2
}
